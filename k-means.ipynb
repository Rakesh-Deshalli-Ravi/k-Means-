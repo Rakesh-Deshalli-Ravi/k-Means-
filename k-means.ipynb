{
 "cells": [
  {
   "cell_type": "code",
   "execution_count": 29,
   "metadata": {},
   "outputs": [],
   "source": [
    "from numpy import *"
   ]
  },
  {
   "cell_type": "code",
   "execution_count": 30,
   "metadata": {},
   "outputs": [],
   "source": [
    "def loadDataSet(fileName):\n",
    "    dataMat =[]\n",
    "    fr = open(fileName)\n",
    "    for line in fr.readlines():\n",
    "        curLine = line.strip().split(\"\\t\")\n",
    "        fltLine = list(map(float, curLine))\n",
    "        dataMat.append(fltLine)\n",
    "    return dataMat"
   ]
  },
  {
   "cell_type": "code",
   "execution_count": 31,
   "metadata": {},
   "outputs": [],
   "source": [
    "def distEuclid(vecA, vecB):\n",
    "    return sqrt(sum(power(vecA-vecB, 2)))"
   ]
  },
  {
   "cell_type": "code",
   "execution_count": 32,
   "metadata": {},
   "outputs": [],
   "source": [
    "def randCent(dataSet, k):\n",
    "    n = shape(dataSet)[1]\n",
    "    centroids = mat(zeros((k, n)))\n",
    "    for j in range(n):\n",
    "        minJ = min(dataSet[:,j])\n",
    "        rangeJ = float(max(dataSet[:,j])-minJ)\n",
    "        centroids[:,j] = minJ+rangeJ*random.rand(k,1)\n",
    "    return centroids"
   ]
  },
  {
   "cell_type": "code",
   "execution_count": 38,
   "metadata": {},
   "outputs": [],
   "source": [
    "datMat =mat(loadDataSet('testSet.txt'))\n"
   ]
  },
  {
   "cell_type": "code",
   "execution_count": 39,
   "metadata": {},
   "outputs": [
    {
     "name": "stdout",
     "output_type": "stream",
     "text": [
      "[[-5.379713]]\n"
     ]
    }
   ],
   "source": [
    "print(min(datMat[:,0]))"
   ]
  },
  {
   "cell_type": "code",
   "execution_count": 40,
   "metadata": {},
   "outputs": [
    {
     "data": {
      "text/plain": [
       "matrix([[-4.232586]])"
      ]
     },
     "execution_count": 40,
     "metadata": {},
     "output_type": "execute_result"
    }
   ],
   "source": [
    "min(datMat[:,1])"
   ]
  },
  {
   "cell_type": "code",
   "execution_count": 41,
   "metadata": {},
   "outputs": [
    {
     "data": {
      "text/plain": [
       "matrix([[5.1904]])"
      ]
     },
     "execution_count": 41,
     "metadata": {},
     "output_type": "execute_result"
    }
   ],
   "source": [
    "max(datMat[:,1])"
   ]
  },
  {
   "cell_type": "code",
   "execution_count": 44,
   "metadata": {},
   "outputs": [
    {
     "name": "stderr",
     "output_type": "stream",
     "text": [
      "C:\\Users\\harsh\\AppData\\Local\\Temp\\ipykernel_3448\\4043334818.py:6: DeprecationWarning: Conversion of an array with ndim > 0 to a scalar is deprecated, and will error in future. Ensure you extract a single element from your array before performing this operation. (Deprecated NumPy 1.25.)\n",
      "  rangeJ = float(max(dataSet[:,j])-minJ)\n"
     ]
    },
    {
     "data": {
      "text/plain": [
       "matrix([[-5.20617492,  3.59334487],\n",
       "        [-0.58544225, -1.14041166]])"
      ]
     },
     "execution_count": 44,
     "metadata": {},
     "output_type": "execute_result"
    }
   ],
   "source": [
    "randCent(datMat, 2)"
   ]
  },
  {
   "cell_type": "code",
   "execution_count": 45,
   "metadata": {},
   "outputs": [
    {
     "data": {
      "text/plain": [
       "5.184632816681332"
      ]
     },
     "execution_count": 45,
     "metadata": {},
     "output_type": "execute_result"
    }
   ],
   "source": [
    "distEuclid(datMat[0], datMat[1])"
   ]
  },
  {
   "cell_type": "code",
   "execution_count": 46,
   "metadata": {},
   "outputs": [],
   "source": [
    "def kMeans(dataSet, k, distMeas=distEuclid, createCent=randCent):\n",
    "    m = shape(dataSet)[0]\n",
    "    clusterAssment = mat(zeros((m, 2)))\n",
    "    centroids = createCent(dataSet, k)\n",
    "    clusterChanged = True\n",
    "    while clusterChanged:\n",
    "        clusterChanged = False\n",
    "        for i in range(m):\n",
    "            minDist = inf\n",
    "            minIndex = -1\n",
    "            for j in range(k):\n",
    "                distJI = distMeas(centroids[j,:], dataSet[i,:])\n",
    "                if distJI < minDist:\n",
    "                    minDist = distJI\n",
    "                    minIndex = j\n",
    "            if clusterAssment[i,0] != minIndex:\n",
    "                clusterChanged = True\n",
    "            clusterAssment[i,:] = minIndex, minDist**2\n",
    "        print(centroids)\n",
    "        for cent in range(k):\n",
    "            ptsInClust = dataSet[nonzero(clusterAssment[:,0].A==cent)[0]]\n",
    "            centroids[cent,:] = mean(ptsInClust, axis=0)\n",
    "    return centroids, clusterAssment"
   ]
  },
  {
   "cell_type": "code",
   "execution_count": 47,
   "metadata": {},
   "outputs": [
    {
     "name": "stdout",
     "output_type": "stream",
     "text": [
      "[[ 4.10559028 -3.77129192]\n",
      " [ 3.13353451 -3.17444068]\n",
      " [ 0.12046373  2.22984949]\n",
      " [ 3.97377477 -0.67400863]]\n",
      "[[ 4.079985   -3.255096  ]\n",
      " [ 0.73705233 -3.30043076]\n",
      " [-1.19044156  1.53242858]\n",
      " [ 3.942136    0.50598643]]\n",
      "[[ 3.29921309 -3.11143536]\n",
      " [-2.071183   -3.04115417]\n",
      " [-1.86350681  2.50511937]\n",
      " [ 3.08014861  2.43996456]]\n",
      "[[ 2.926737   -2.70147753]\n",
      " [-3.19984738 -2.96423548]\n",
      " [-2.46154315  2.78737555]\n",
      " [ 2.6265299   3.10868015]]\n",
      "[[ 2.80293085 -2.7315146 ]\n",
      " [-3.38237045 -2.9473363 ]\n",
      " [-2.46154315  2.78737555]\n",
      " [ 2.6265299   3.10868015]]\n"
     ]
    },
    {
     "name": "stderr",
     "output_type": "stream",
     "text": [
      "C:\\Users\\harsh\\AppData\\Local\\Temp\\ipykernel_3448\\4043334818.py:6: DeprecationWarning: Conversion of an array with ndim > 0 to a scalar is deprecated, and will error in future. Ensure you extract a single element from your array before performing this operation. (Deprecated NumPy 1.25.)\n",
      "  rangeJ = float(max(dataSet[:,j])-minJ)\n"
     ]
    }
   ],
   "source": [
    "myCentroids, clustAssign = kMeans(datMat, 4)"
   ]
  },
  {
   "cell_type": "code",
   "execution_count": 51,
   "metadata": {},
   "outputs": [],
   "source": [
    "def biKMeans(dataSet, k, distMeas=distEuclid):\n",
    "    m = shape(dataSet)[0]\n",
    "    clustAssment = mat(zeros((m,2)))\n",
    "    centroid0 = mean(dataSet, axis=0).tolist()[0]\n",
    "    centList = [centroid0]\n",
    "    for j in range(m):\n",
    "        clustAssment[j,1] = distMeas(mat(centroid0), dataSet[j,:])**2\n",
    "    while (len(centList)<k):\n",
    "        lowestSSE = inf\n",
    "        for i in range(len(centList)):\n",
    "            ptsInCurCluster = dataSet[nonzero(clustAssment[:,0].A == i)[0],:]\n",
    "            centroidMat, splitClustAs = kMeans(ptsInCurCluster, 2, distMeas)\n",
    "            sseSplit = sum(splitClustAs[:,1])\n",
    "            sseNotSplit = sum(clustAssment[nonzero(clustAssment[:,0].A != i)[0], 1])\n",
    "            print(f'SSE split, and not split:{sseSplit, sseNotSplit}')\n",
    "            if (sseSplit+sseNotSplit) < lowestSSE:\n",
    "                bestSentToSplit = i\n",
    "                bestNewCents = centroidMat\n",
    "                bestClustAss = splitClustAs.copy()\n",
    "                lowestSSE = sseSplit+sseNotSplit\n",
    "        bestClustAss[nonzero(bestClustAss[:,0].A==1)[0], 0] = len(centList)\n",
    "        bestClustAss[nonzero(bestClustAss[:,0].A==0)[0], 0] = bestSentToSplit\n",
    "        print(f'Best Sent to split is{bestSentToSplit}')\n",
    "        print(f'Length of best clust Ass is :{len(bestClustAss)}')\n",
    "        centList[bestSentToSplit] = bestNewCents[0,:]\n",
    "        centList.append(bestNewCents[1,:])\n",
    "        clustAssment[nonzero(clustAssment[:,0].A == bestSentToSplit)[0],:] = bestClustAss\n",
    "    return (centList), clustAssment\n"
   ]
  },
  {
   "cell_type": "code",
   "execution_count": 49,
   "metadata": {},
   "outputs": [],
   "source": [
    "datMat3 = mat(loadDataSet('testSet2.txt'))"
   ]
  },
  {
   "cell_type": "code",
   "execution_count": 52,
   "metadata": {},
   "outputs": [
    {
     "name": "stdout",
     "output_type": "stream",
     "text": [
      "[[-1.49554016  0.40187742]\n",
      " [-2.48627235  2.76930952]]\n",
      "[[ 0.99677359 -0.73477953]\n",
      " [-1.47714714  3.46545543]]\n",
      "[[ 0.93680474 -0.87084665]\n",
      " [-1.3277349   3.46607079]]\n",
      "[[ 0.63042504 -1.33843332]\n",
      " [-0.84735206  3.46862312]]\n",
      "[[ 0.02053813 -2.21845543]\n",
      " [-0.26853357  3.36606168]]\n",
      "[[-0.32150057 -2.62473743]\n",
      " [-0.06953469  3.29844341]]\n",
      "[[-0.45965615 -2.7782156 ]\n",
      " [-0.00675605  3.22710297]]\n",
      "SSE split, and not split:(453.0334895807502, 0.0)\n",
      "Best Sent to split is0\n",
      "Length of best clust Ass is :60\n",
      "[[ 0.50713355 -2.43499024]\n",
      " [-1.28667346 -1.20546279]]\n",
      "[[-0.05200457 -3.16610557]\n",
      " [-1.41084317 -1.873139  ]]\n",
      "[[-7.11923077e-04 -3.21792031e+00]\n",
      " [-1.31198114e+00 -1.96162114e+00]]\n",
      "[[ 0.07973025 -3.24942808]\n",
      " [-1.26873575 -2.07139688]]\n",
      "[[ 0.19848727 -3.24320436]\n",
      " [-1.26405367 -2.209896  ]]\n",
      "[[ 0.2642961 -3.3057243]\n",
      " [-1.1836084 -2.2507069]]\n",
      "[[ 0.35496167 -3.36033556]\n",
      " [-1.12616164 -2.30193564]]\n",
      "SSE split, and not split:(12.753263136887313, 423.8762401366249)\n",
      "[[-4.32974472  4.39022542]\n",
      " [ 3.2227497   1.54179383]]\n",
      "[[-2.94737575  3.3263781 ]\n",
      " [ 2.93386365  3.12782785]]\n",
      "SSE split, and not split:(77.59224931775066, 29.15724944412535)\n",
      "Best Sent to split is1\n",
      "Length of best clust Ass is :40\n"
     ]
    },
    {
     "name": "stderr",
     "output_type": "stream",
     "text": [
      "C:\\Users\\harsh\\AppData\\Local\\Temp\\ipykernel_3448\\4043334818.py:6: DeprecationWarning: Conversion of an array with ndim > 0 to a scalar is deprecated, and will error in future. Ensure you extract a single element from your array before performing this operation. (Deprecated NumPy 1.25.)\n",
      "  rangeJ = float(max(dataSet[:,j])-minJ)\n"
     ]
    }
   ],
   "source": [
    "centList, myNewAssMents = biKMeans(datMat3, 3)"
   ]
  },
  {
   "cell_type": "code",
   "execution_count": 53,
   "metadata": {},
   "outputs": [
    {
     "data": {
      "text/plain": [
       "[matrix([[-0.45965615, -2.7782156 ]]),\n",
       " matrix([[-2.94737575,  3.3263781 ]]),\n",
       " matrix([[2.93386365, 3.12782785]])]"
      ]
     },
     "execution_count": 53,
     "metadata": {},
     "output_type": "execute_result"
    }
   ],
   "source": [
    "centList"
   ]
  },
  {
   "cell_type": "code",
   "execution_count": 57,
   "metadata": {},
   "outputs": [],
   "source": [
    "import urllib3\n",
    "import json"
   ]
  },
  {
   "cell_type": "code",
   "execution_count": 64,
   "metadata": {},
   "outputs": [],
   "source": [
    "import urllib.parse\n",
    "import urllib.request\n",
    "import json\n",
    "\n",
    "def geoGrab(stAddress, city):\n",
    "    apiStem = 'http://where.yahooapis.com/geocode?'  # Base URL for the geocoding API\n",
    "    params = {\n",
    "        'flags': 'J',  # JSON return type\n",
    "        'appid': 'aaa0VN6k',\n",
    "        'location': f'{stAddress} {city}'\n",
    "    }\n",
    "    url_params = urllib.parse.urlencode(params)  # Use urllib.parse.urlencode\n",
    "    yahooApi = apiStem + url_params\n",
    "    print(yahooApi)\n",
    "    \n",
    "    # Open the URL and retrieve the response\n",
    "    with urllib.request.urlopen(yahooApi) as c:\n",
    "        return json.loads(c.read().decode())  # Ensure proper decoding\n",
    "\n",
    "\n",
    "from time import sleep\n",
    "def massPlaceFind(fileName):\n",
    "    fw = open('places.txt', 'w')\n",
    "    for line in open(fileName).readlines():\n",
    "        line = line.strip()\n",
    "        lineArr = line.split('\\t')\n",
    "        retDict = geoGrab(lineArr[1], lineArr[2])\n",
    "        if retDict['ResultSet']['Error'] == 0:\n",
    "            lat = float(retDict['ResultSet']['Results'][0]['latitude'])\n",
    "            lng = float(retDict['ResultSet']['Results'][0]['longitude'])\n",
    "            print(\"%s\\t%f\\t%f\" % (lineArr[0], lat, lng))\n",
    "            fw.write('%s\\t%f\\t%f\\n' % (line, lat, lng))\n",
    "        else: print(\"error fetching\")\n",
    "        sleep(1)\n",
    "    fw.close()\n",
    "    "
   ]
  },
  {
   "cell_type": "code",
   "execution_count": 66,
   "metadata": {},
   "outputs": [],
   "source": [
    "def distSLC(vecA, vecB):#Spherical Law of Cosines\n",
    "    a = sin(vecA[0,1]*pi/180) * sin(vecB[0,1]*pi/180)\n",
    "    b = cos(vecA[0,1]*pi/180) * cos(vecB[0,1]*pi/180) * \\\n",
    "                      cos(pi * (vecB[0,0]-vecA[0,0]) /180)\n",
    "    return arccos(a + b)*6371.0 #pi is imported with numpy\n",
    "\n",
    "import matplotlib\n",
    "import matplotlib.pyplot as plt\n",
    "def clusterClubs(numClust=5):\n",
    "    datList = []\n",
    "    for line in open('places.txt').readlines():\n",
    "        lineArr = line.split('\\t')\n",
    "        datList.append([float(lineArr[4]), float(lineArr[3])])\n",
    "    datMat = mat(datList)\n",
    "    myCentroids, clustAssing = biKmeans(datMat, numClust, distMeas=distSLC)\n",
    "    fig = plt.figure()\n",
    "    rect=[0.1,0.1,0.8,0.8]\n",
    "    scatterMarkers=['s', 'o', '^', '8', 'p', \\\n",
    "                    'd', 'v', 'h', '>', '<']\n",
    "    axprops = dict(xticks=[], yticks=[])\n",
    "    ax0=fig.add_axes(rect, label='ax0', **axprops)\n",
    "    imgP = plt.imread('Portland.png')\n",
    "    ax0.imshow(imgP)\n",
    "    ax1=fig.add_axes(rect, label='ax1', frameon=False)\n",
    "    for i in range(numClust):\n",
    "        ptsInCurrCluster = datMat[nonzero(clustAssing[:,0].A==i)[0],:]\n",
    "        markerStyle = scatterMarkers[i % len(scatterMarkers)]\n",
    "        ax1.scatter(ptsInCurrCluster[:,0].flatten().A[0], ptsInCurrCluster[:,1].flatten().A[0], marker=markerStyle, s=90)\n",
    "    ax1.scatter(myCentroids[:,0].flatten().A[0], myCentroids[:,1].flatten().A[0], marker='+', s=300)\n",
    "    plt.show()"
   ]
  }
 ],
 "metadata": {
  "kernelspec": {
   "display_name": "Python 3",
   "language": "python",
   "name": "python3"
  },
  "language_info": {
   "codemirror_mode": {
    "name": "ipython",
    "version": 3
   },
   "file_extension": ".py",
   "mimetype": "text/x-python",
   "name": "python",
   "nbconvert_exporter": "python",
   "pygments_lexer": "ipython3",
   "version": "3.12.4"
  }
 },
 "nbformat": 4,
 "nbformat_minor": 2
}
